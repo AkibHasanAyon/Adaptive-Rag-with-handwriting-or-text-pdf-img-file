{
 "cells": [
  {
   "cell_type": "markdown",
   "id": "8b42e221",
   "metadata": {},
   "source": [
    "### Install Required Libraries"
   ]
  },
  {
   "cell_type": "code",
   "execution_count": 24,
   "id": "80d9f585",
   "metadata": {},
   "outputs": [
    {
     "name": "stdout",
     "output_type": "stream",
     "text": [
      "Collecting easyocr\n",
      "  Downloading easyocr-1.7.2-py3-none-any.whl.metadata (10 kB)\n",
      "Requirement already satisfied: torch in d:\\my files\\vs project\\.venv\\lib\\site-packages (from easyocr) (2.7.1)\n",
      "Requirement already satisfied: torchvision>=0.5 in d:\\my files\\vs project\\.venv\\lib\\site-packages (from easyocr) (0.22.1)\n",
      "Collecting opencv-python-headless (from easyocr)\n",
      "  Downloading opencv_python_headless-4.12.0.88-cp37-abi3-win_amd64.whl.metadata (20 kB)\n",
      "Requirement already satisfied: scipy in d:\\my files\\vs project\\.venv\\lib\\site-packages (from easyocr) (1.16.0)\n",
      "Requirement already satisfied: numpy in d:\\my files\\vs project\\.venv\\lib\\site-packages (from easyocr) (2.3.2)\n",
      "Requirement already satisfied: Pillow in d:\\my files\\vs project\\.venv\\lib\\site-packages (from easyocr) (11.3.0)\n",
      "Collecting scikit-image (from easyocr)\n",
      "  Downloading scikit_image-0.25.2-cp311-cp311-win_amd64.whl.metadata (14 kB)\n",
      "Collecting python-bidi (from easyocr)\n",
      "  Downloading python_bidi-0.6.6-cp311-cp311-win_amd64.whl.metadata (5.0 kB)\n",
      "Requirement already satisfied: PyYAML in d:\\my files\\vs project\\.venv\\lib\\site-packages (from easyocr) (6.0.2)\n",
      "Collecting Shapely (from easyocr)\n",
      "  Downloading shapely-2.1.1-cp311-cp311-win_amd64.whl.metadata (7.0 kB)\n",
      "Collecting pyclipper (from easyocr)\n",
      "  Downloading pyclipper-1.3.0.post6-cp311-cp311-win_amd64.whl.metadata (9.2 kB)\n",
      "Collecting ninja (from easyocr)\n",
      "  Downloading ninja-1.11.1.4-py3-none-win_amd64.whl.metadata (5.0 kB)\n",
      "Requirement already satisfied: filelock in d:\\my files\\vs project\\.venv\\lib\\site-packages (from torch->easyocr) (3.18.0)\n",
      "Requirement already satisfied: typing-extensions>=4.10.0 in d:\\my files\\vs project\\.venv\\lib\\site-packages (from torch->easyocr) (4.14.1)\n",
      "Requirement already satisfied: sympy>=1.13.3 in d:\\my files\\vs project\\.venv\\lib\\site-packages (from torch->easyocr) (1.14.0)\n",
      "Requirement already satisfied: networkx in d:\\my files\\vs project\\.venv\\lib\\site-packages (from torch->easyocr) (3.5)\n",
      "Requirement already satisfied: jinja2 in d:\\my files\\vs project\\.venv\\lib\\site-packages (from torch->easyocr) (3.1.6)\n",
      "Requirement already satisfied: fsspec in d:\\my files\\vs project\\.venv\\lib\\site-packages (from torch->easyocr) (2025.7.0)\n",
      "Requirement already satisfied: mpmath<1.4,>=1.1.0 in d:\\my files\\vs project\\.venv\\lib\\site-packages (from sympy>=1.13.3->torch->easyocr) (1.3.0)\n",
      "Requirement already satisfied: MarkupSafe>=2.0 in d:\\my files\\vs project\\.venv\\lib\\site-packages (from jinja2->torch->easyocr) (3.0.2)\n",
      "Collecting numpy (from easyocr)\n",
      "  Downloading numpy-2.2.6-cp311-cp311-win_amd64.whl.metadata (60 kB)\n",
      "Collecting imageio!=2.35.0,>=2.33 (from scikit-image->easyocr)\n",
      "  Downloading imageio-2.37.0-py3-none-any.whl.metadata (5.2 kB)\n",
      "Collecting tifffile>=2022.8.12 (from scikit-image->easyocr)\n",
      "  Downloading tifffile-2025.6.11-py3-none-any.whl.metadata (32 kB)\n",
      "Requirement already satisfied: packaging>=21 in d:\\my files\\vs project\\.venv\\lib\\site-packages (from scikit-image->easyocr) (25.0)\n",
      "Collecting lazy-loader>=0.4 (from scikit-image->easyocr)\n",
      "  Downloading lazy_loader-0.4-py3-none-any.whl.metadata (7.6 kB)\n",
      "Downloading easyocr-1.7.2-py3-none-any.whl (2.9 MB)\n",
     
      "Successfully installed Shapely-2.1.1 easyocr-1.7.2 imageio-2.37.0 lazy-loader-0.4 ninja-1.11.1.4 numpy-2.2.6 opencv-python-headless-4.12.0.88 pyclipper-1.3.0.post6 python-bidi-0.6.6 scikit-image-0.25.2 tifffile-2025.6.11\n"
     ]
    },
    {
     "name": "stderr",
     "output_type": "stream",
     "text": [
      "  WARNING: Failed to remove contents in a temporary directory 'D:\\my files\\vs project\\.venv\\Lib\\site-packages\\~umpy.libs'.\n",
      "  You can safely remove it manually.\n",
      "  WARNING: Failed to remove contents in a temporary directory 'D:\\my files\\vs project\\.venv\\Lib\\site-packages\\~umpy'.\n",
      "  You can safely remove it manually.\n",
      "ERROR: Invalid requirement: '#': Expected package name at the start of dependency specifier\n",
      "    #\n",
      "    ^\n"
     ]
    },
    {
     "name": "stdout",
     "output_type": "stream",
     "text": [
      "Requirement already satisfied: transformers in d:\\my files\\vs project\\.venv\\lib\\site-packages (4.54.1)\n",
      "Requirement already satisfied: filelock in d:\\my files\\vs project\\.venv\\lib\\site-packages (from transformers) (3.18.0)\n",
      "Requirement already satisfied: huggingface-hub<1.0,>=0.34.0 in d:\\my files\\vs project\\.venv\\lib\\site-packages (from transformers) (0.34.1)\n",
      "Requirement already satisfied: numpy>=1.17 in d:\\my files\\vs project\\.venv\\lib\\site-packages (from transformers) (2.2.6)\n",
      "Requirement already satisfied: packaging>=20.0 in d:\\my files\\vs project\\.venv\\lib\\site-packages (from transformers) (25.0)\n",
      "Requirement already satisfied: pyyaml>=5.1 in d:\\my files\\vs project\\.venv\\lib\\site-packages (from transformers) (6.0.2)\n",
      "Requirement already satisfied: regex!=2019.12.17 in d:\\my files\\vs project\\.venv\\lib\\site-packages (from transformers) (2024.11.6)\n",
      "Requirement already satisfied: requests in d:\\my files\\vs project\\.venv\\lib\\site-packages (from transformers) (2.32.4)\n",
      "Requirement already satisfied: tokenizers<0.22,>=0.21 in d:\\my files\\vs project\\.venv\\lib\\site-packages (from transformers) (0.21.4)\n",
      "Requirement already satisfied: safetensors>=0.4.3 in d:\\my files\\vs project\\.venv\\lib\\site-packages (from transformers) (0.5.3)\n",
      "Requirement already satisfied: tqdm>=4.27 in d:\\my files\\vs project\\.venv\\lib\\site-packages (from transformers) (4.67.1)\n",
      "Requirement already satisfied: fsspec>=2023.5.0 in d:\\my files\\vs project\\.venv\\lib\\site-packages (from huggingface-hub<1.0,>=0.34.0->transformers) (2025.7.0)\n",
      "Requirement already satisfied: typing-extensions>=3.7.4.3 in d:\\my files\\vs project\\.venv\\lib\\site-packages (from huggingface-hub<1.0,>=0.34.0->transformers) (4.14.1)\n",
      "Requirement already satisfied: colorama in d:\\my files\\vs project\\.venv\\lib\\site-packages (from tqdm>=4.27->transformers) (0.4.6)\n",
      "Requirement already satisfied: charset_normalizer<4,>=2 in d:\\my files\\vs project\\.venv\\lib\\site-packages (from requests->transformers) (3.4.2)\n",
      "Requirement already satisfied: idna<4,>=2.5 in d:\\my files\\vs project\\.venv\\lib\\site-packages (from requests->transformers) (3.10)\n",
      "Requirement already satisfied: urllib3<3,>=1.21.1 in d:\\my files\\vs project\\.venv\\lib\\site-packages (from requests->transformers) (2.5.0)\n",
      "Requirement already satisfied: certifi>=2017.4.17 in d:\\my files\\vs project\\.venv\\lib\\site-packages (from requests->transformers) (2025.7.14)\n",
      "Requirement already satisfied: sentence-transformers in d:\\my files\\vs project\\.venv\\lib\\site-packages (5.0.0)\n",
      "Requirement already satisfied: transformers<5.0.0,>=4.41.0 in d:\\my files\\vs project\\.venv\\lib\\site-packages (from sentence-transformers) (4.54.1)\n",
      "Requirement already satisfied: tqdm in d:\\my files\\vs project\\.venv\\lib\\site-packages (from sentence-transformers) (4.67.1)\n",
      "Requirement already satisfied: torch>=1.11.0 in d:\\my files\\vs project\\.venv\\lib\\site-packages (from sentence-transformers) (2.7.1)\n",
      "Requirement already satisfied: scikit-learn in d:\\my files\\vs project\\.venv\\lib\\site-packages (from sentence-transformers) (1.7.1)\n",
      "Requirement already satisfied: scipy in d:\\my files\\vs project\\.venv\\lib\\site-packages (from sentence-transformers) (1.16.0)\n",
      "Requirement already satisfied: huggingface-hub>=0.20.0 in d:\\my files\\vs project\\.venv\\lib\\site-packages (from sentence-transformers) (0.34.1)\n",
      "Requirement already satisfied: Pillow in d:\\my files\\vs project\\.venv\\lib\\site-packages (from sentence-transformers) (11.3.0)\n",
      "Requirement already satisfied: typing_extensions>=4.5.0 in d:\\my files\\vs project\\.venv\\lib\\site-packages (from sentence-transformers) (4.14.1)\n",
      "Requirement already satisfied: filelock in d:\\my files\\vs project\\.venv\\lib\\site-packages (from transformers<5.0.0,>=4.41.0->sentence-transformers) (3.18.0)\n",
      "Requirement already satisfied: numpy>=1.17 in d:\\my files\\vs project\\.venv\\lib\\site-packages (from transformers<5.0.0,>=4.41.0->sentence-transformers) (2.2.6)\n",
      "Requirement already satisfied: packaging>=20.0 in d:\\my files\\vs project\\.venv\\lib\\site-packages (from transformers<5.0.0,>=4.41.0->sentence-transformers) (25.0)\n",
      "Requirement already satisfied: pyyaml>=5.1 in d:\\my files\\vs project\\.venv\\lib\\site-packages (from transformers<5.0.0,>=4.41.0->sentence-transformers) (6.0.2)\n",
      "Requirement already satisfied: regex!=2019.12.17 in d:\\my files\\vs project\\.venv\\lib\\site-packages (from transformers<5.0.0,>=4.41.0->sentence-transformers) (2024.11.6)\n",
      "Requirement already satisfied: requests in d:\\my files\\vs project\\.venv\\lib\\site-packages (from transformers<5.0.0,>=4.41.0->sentence-transformers) (2.32.4)\n",
      "Requirement already satisfied: tokenizers<0.22,>=0.21 in d:\\my files\\vs project\\.venv\\lib\\site-packages (from transformers<5.0.0,>=4.41.0->sentence-transformers) (0.21.4)\n",
      "Requirement already satisfied: safetensors>=0.4.3 in d:\\my files\\vs project\\.venv\\lib\\site-packages (from transformers<5.0.0,>=4.41.0->sentence-transformers) (0.5.3)\n",
      "Requirement already satisfied: fsspec>=2023.5.0 in d:\\my files\\vs project\\.venv\\lib\\site-packages (from huggingface-hub>=0.20.0->sentence-transformers) (2025.7.0)\n",
      "Requirement already satisfied: sympy>=1.13.3 in d:\\my files\\vs project\\.venv\\lib\\site-packages (from torch>=1.11.0->sentence-transformers) (1.14.0)\n",
      "Requirement already satisfied: networkx in d:\\my files\\vs project\\.venv\\lib\\site-packages (from torch>=1.11.0->sentence-transformers) (3.5)\n",
      "Requirement already satisfied: jinja2 in d:\\my files\\vs project\\.venv\\lib\\site-packages (from torch>=1.11.0->sentence-transformers) (3.1.6)\n",
      "Requirement already satisfied: mpmath<1.4,>=1.1.0 in d:\\my files\\vs project\\.venv\\lib\\site-packages (from sympy>=1.13.3->torch>=1.11.0->sentence-transformers) (1.3.0)\n",
      "Requirement already satisfied: colorama in d:\\my files\\vs project\\.venv\\lib\\site-packages (from tqdm->sentence-transformers) (0.4.6)\n",
      "Requirement already satisfied: MarkupSafe>=2.0 in d:\\my files\\vs project\\.venv\\lib\\site-packages (from jinja2->torch>=1.11.0->sentence-transformers) (3.0.2)\n",
      "Requirement already satisfied: charset_normalizer<4,>=2 in d:\\my files\\vs project\\.venv\\lib\\site-packages (from requests->transformers<5.0.0,>=4.41.0->sentence-transformers) (3.4.2)\n",
      "Requirement already satisfied: idna<4,>=2.5 in d:\\my files\\vs project\\.venv\\lib\\site-packages (from requests->transformers<5.0.0,>=4.41.0->sentence-transformers) (3.10)\n",
      "Requirement already satisfied: urllib3<3,>=1.21.1 in d:\\my files\\vs project\\.venv\\lib\\site-packages (from requests->transformers<5.0.0,>=4.41.0->sentence-transformers) (2.5.0)\n",
      "Requirement already satisfied: certifi>=2017.4.17 in d:\\my files\\vs project\\.venv\\lib\\site-packages (from requests->transformers<5.0.0,>=4.41.0->sentence-transformers) (2025.7.14)\n",
      "Requirement already satisfied: joblib>=1.2.0 in d:\\my files\\vs project\\.venv\\lib\\site-packages (from scikit-learn->sentence-transformers) (1.5.1)\n",
      "Requirement already satisfied: threadpoolctl>=3.1.0 in d:\\my files\\vs project\\.venv\\lib\\site-packages (from scikit-learn->sentence-transformers) (3.6.0)\n",
      "Requirement already satisfied: rank_bm25 in d:\\my files\\vs project\\.venv\\lib\\site-packages (0.2.2)\n",
      "Requirement already satisfied: numpy in d:\\my files\\vs project\\.venv\\lib\\site-packages (from rank_bm25) (2.2.6)\n",
      "Requirement already satisfied: python-dotenv in d:\\my files\\vs project\\.venv\\lib\\site-packages (1.1.1)\n",
      "Requirement already satisfied: groq in d:\\my files\\vs project\\.venv\\lib\\site-packages (0.30.0)\n",
      "Requirement already satisfied: anyio<5,>=3.5.0 in d:\\my files\\vs project\\.venv\\lib\\site-packages (from groq) (4.9.0)\n",
      "Requirement already satisfied: distro<2,>=1.7.0 in d:\\my files\\vs project\\.venv\\lib\\site-packages (from groq) (1.9.0)\n",
      "Requirement already satisfied: httpx<1,>=0.23.0 in d:\\my files\\vs project\\.venv\\lib\\site-packages (from groq) (0.28.1)\n",
      "Requirement already satisfied: pydantic<3,>=1.9.0 in d:\\my files\\vs project\\.venv\\lib\\site-packages (from groq) (2.11.7)\n",
      "Requirement already satisfied: sniffio in d:\\my files\\vs project\\.venv\\lib\\site-packages (from groq) (1.3.1)\n",
      "Requirement already satisfied: typing-extensions<5,>=4.10 in d:\\my files\\vs project\\.venv\\lib\\site-packages (from groq) (4.14.1)\n",
      "Requirement already satisfied: idna>=2.8 in d:\\my files\\vs project\\.venv\\lib\\site-packages (from anyio<5,>=3.5.0->groq) (3.10)\n",
      "Requirement already satisfied: certifi in d:\\my files\\vs project\\.venv\\lib\\site-packages (from httpx<1,>=0.23.0->groq) (2025.7.14)\n",
      "Requirement already satisfied: httpcore==1.* in d:\\my files\\vs project\\.venv\\lib\\site-packages (from httpx<1,>=0.23.0->groq) (1.0.9)\n",
      "Requirement already satisfied: h11>=0.16 in d:\\my files\\vs project\\.venv\\lib\\site-packages (from httpcore==1.*->httpx<1,>=0.23.0->groq) (0.16.0)\n",
      "Requirement already satisfied: annotated-types>=0.6.0 in d:\\my files\\vs project\\.venv\\lib\\site-packages (from pydantic<3,>=1.9.0->groq) (0.7.0)\n",
      "Requirement already satisfied: pydantic-core==2.33.2 in d:\\my files\\vs project\\.venv\\lib\\site-packages (from pydantic<3,>=1.9.0->groq) (2.33.2)\n",
      "Requirement already satisfied: typing-inspection>=0.4.0 in d:\\my files\\vs project\\.venv\\lib\\site-packages (from pydantic<3,>=1.9.0->groq) (0.4.1)\n",
      "Requirement already satisfied: pillow in d:\\my files\\vs project\\.venv\\lib\\site-packages (11.3.0)\n",
      "Requirement already satisfied: pymupdf in d:\\my files\\vs project\\.venv\\lib\\site-packages (1.26.3)\n"
     ]
    }
   ],
   "source": [
    "!pip install easyocr\n",
    "!pip install torch torchvision torchaudio  # already needed\n",
    "!pip install transformers\n",
    "!pip install sentence-transformers\n",
    "!pip install rank_bm25\n",
    "!pip install python-dotenv\n",
    "!pip install groq\n",
    "!pip install pillow\n",
    "!pip install pymupdf\n"
   ]
  },
  {
   "cell_type": "markdown",
   "id": "457484a3",
   "metadata": {},
   "source": [
    "### Load .env and Groq API Key"
   ]
  },
  {
   "cell_type": "code",
   "execution_count": 25,
   "id": "d446254b",
   "metadata": {},
   "outputs": [],
   "source": [
    "import os\n",
    "from dotenv import load_dotenv\n",
    "\n",
    "load_dotenv()\n",
    "GROQ_API_KEY = os.getenv(\"GROQ_API_KEY\")\n"
   ]
  },
  {
   "cell_type": "markdown",
   "id": "2ff386a1",
   "metadata": {},
   "source": [
    "### Load EasyOCR Model for Handwriting OCR"
   ]
  },
  {
   "cell_type": "code",
   "execution_count": 26,
   "id": "6f37a43e",
   "metadata": {},
   "outputs": [
    {
     "name": "stderr",
     "output_type": "stream",
     "text": [
      "Using CPU. Note: This module is much faster with a GPU.\n",
      "Downloading detection model, please wait. This may take several minutes depending upon your network connection.\n"
     ]
    },
    {
     "name": "stdout",
     "output_type": "stream",
     "text": [
      "Progress: |██████████████████████████████████████████████████| 100.0% Complete"
     ]
    },
    {
     "name": "stderr",
     "output_type": "stream",
     "text": [
      "Downloading recognition model, please wait. This may take several minutes depending upon your network connection.\n"
     ]
    },
    {
     "name": "stdout",
     "output_type": "stream",
     "text": [
      "Progress: |██████████████████████████████████████████████████| 100.0% Complete"
     ]
    }
   ],
   "source": [
    "import easyocr\n",
    "reader = easyocr.Reader(['en'], gpu=False)\n"
   ]
  },
  {
   "cell_type": "markdown",
   "id": "d14495f2",
   "metadata": {},
   "source": [
    "### Universal Text Extractor (Image / Typed PDF / Scanned Handwritten PDF)"
   ]
  },
  {
   "cell_type": "code",
   "execution_count": 27,
   "id": "264e723f",
   "metadata": {},
   "outputs": [],
   "source": [
    "from pathlib import Path\n",
    "from PIL import Image, ImageEnhance\n",
    "import fitz  # PyMuPDF\n",
    "import numpy as np\n",
    "\n",
    "def easyocr_image(image: Image.Image):\n",
    "    image = image.convert(\"L\")  # grayscale\n",
    "    enhancer = ImageEnhance.Contrast(image)\n",
    "    image = enhancer.enhance(2.0)  # increase contrast\n",
    "    results = reader.readtext(np.array(image), detail=0, paragraph=True)\n",
    "    return \"\\n\".join(results)\n",
    "\n",
    "def extract_text(file_path):\n",
    "    ext = Path(file_path).suffix.lower()\n",
    "\n",
    "    if ext == \".pdf\":\n",
    "        doc = fitz.open(file_path)\n",
    "        full_text = \"\"\n",
    "        for i, page in enumerate(doc):\n",
    "            typed_text = page.get_text().strip()\n",
    "            if len(typed_text) > 50:\n",
    "                full_text += typed_text + \"\\n\"\n",
    "            else:\n",
    "                pix = page.get_pixmap(dpi=400)\n",
    "                img = Image.frombytes(\"RGB\", [pix.width, pix.height], pix.samples)\n",
    "                full_text += easyocr_image(img) + \"\\n\"\n",
    "        return full_text.strip()\n",
    "\n",
    "    elif ext in [\".jpg\", \".jpeg\", \".png\"]:\n",
    "        img = Image.open(file_path)\n",
    "        return easyocr_image(img)\n",
    "\n",
    "    else:\n",
    "        raise ValueError(f\"Unsupported file type: {ext}\")\n"
   ]
  },
  {
   "cell_type": "markdown",
   "id": "a8f79e3e",
   "metadata": {},
   "source": [
    "### Chunk the Extracted Text"
   ]
  },
  {
   "cell_type": "code",
   "execution_count": 28,
   "id": "ad92fc71",
   "metadata": {},
   "outputs": [],
   "source": [
    "def chunk_text(text, chunk_size=100, overlap=20):\n",
    "    words = text.split()\n",
    "    chunks = []\n",
    "    for i in range(0, len(words), chunk_size - overlap):\n",
    "        chunk = \" \".join(words[i:i + chunk_size])\n",
    "        chunks.append(chunk)\n",
    "    return chunks\n"
   ]
  },
  {
   "cell_type": "markdown",
   "id": "ebe4d7c3",
   "metadata": {},
   "source": [
    "### Create Vector Embeddings and BM25 Index"
   ]
  },
  {
   "cell_type": "code",
   "execution_count": 29,
   "id": "6e1ffb12",
   "metadata": {},
   "outputs": [],
   "source": [
    "from sentence_transformers import SentenceTransformer\n",
    "from rank_bm25 import BM25Okapi\n",
    "\n",
    "embedding_model = SentenceTransformer(\"all-MiniLM-L6-v2\")\n",
    "\n",
    "def build_indexes(chunks):\n",
    "    embeddings = embedding_model.encode(chunks)\n",
    "    tokenized_chunks = [chunk.split(\" \") for chunk in chunks]\n",
    "    bm25 = BM25Okapi(tokenized_chunks)\n",
    "    return embeddings, bm25\n"
   ]
  },
  {
   "cell_type": "markdown",
   "id": "b9c8c235",
   "metadata": {},
   "source": [
    "### Adaptive Retrieval (Vector + Keyword Fusion)\n"
   ]
  },
  {
   "cell_type": "code",
   "execution_count": 30,
   "id": "80b11ac9",
   "metadata": {},
   "outputs": [],
   "source": [
    "import numpy as np\n",
    "from sklearn.metrics.pairwise import cosine_similarity\n",
    "\n",
    "def adaptive_retrieve(query, chunks, embeddings, bm25, top_k=3, alpha=0.5):\n",
    "    query_embedding = embedding_model.encode([query])[0]\n",
    "    vector_scores = cosine_similarity([query_embedding], embeddings)[0]\n",
    "    keyword_scores = bm25.get_scores(query.split())\n",
    "\n",
    "    vector_scores = (vector_scores - np.min(vector_scores)) / (np.max(vector_scores) - np.min(vector_scores) + 1e-8)\n",
    "    keyword_scores = (keyword_scores - np.min(keyword_scores)) / (np.max(keyword_scores) - np.min(keyword_scores) + 1e-8)\n",
    "\n",
    "    combined_scores = alpha * vector_scores + (1 - alpha) * keyword_scores\n",
    "    top_indices = np.argsort(combined_scores)[::-1][:top_k]\n",
    "    return [chunks[i] for i in top_indices]\n"
   ]
  },
  {
   "cell_type": "markdown",
   "id": "5b0a3952",
   "metadata": {},
   "source": [
    "### Ask Groq API"
   ]
  },
  {
   "cell_type": "code",
   "execution_count": 31,
   "id": "f28348d4",
   "metadata": {},
   "outputs": [],
   "source": [
    "from groq import Groq\n",
    "\n",
    "groq_client = Groq(api_key=GROQ_API_KEY)\n",
    "\n",
    "def ask_groq(prompt):\n",
    "    response = groq_client.chat.completions.create(\n",
    "        model=\"llama3-70b-8192\",\n",
    "        messages=[\n",
    "            {\"role\": \"system\", \"content\": \"You are a helpful assistant.\"},\n",
    "            {\"role\": \"user\", \"content\": prompt}\n",
    "        ]\n",
    "    )\n",
    "    return response.choices[0].message.content\n"
   ]
  },
  {
   "cell_type": "markdown",
   "id": "540514bd",
   "metadata": {},
   "source": [
    "### Preview Text"
   ]
  },
  {
   "cell_type": "code",
   "execution_count": 32,
   "id": "f2756923",
   "metadata": {},
   "outputs": [
    {
     "name": "stderr",
     "output_type": "stream",
     "text": [
      "d:\\my files\\vs project\\.venv\\Lib\\site-packages\\torch\\utils\\data\\dataloader.py:665: UserWarning: 'pin_memory' argument is set as true but no accelerator is found, then device pinned memory won't be used.\n",
      "  warnings.warn(warn_msg)\n"
     ]
    },
    {
     "name": "stdout",
     "output_type": "stream",
     "text": [
      "📝 Preview Extracted Text:\n",
      "\n",
      "Cwe } Iio [03 Akb Hlaoam See : 22 Appianmext-2 T0 ; 26/4892642 9k) Enxplai ~ki We\"need Yood, ;  , (6) Nam € Ae` enexttial and MOn enpewtial amino acidb ~ ;; Lmlysi $ : Anc (:} 1,, | 0.266.9)61 6' ' W} ;, 4 Food ia ' #e: mox-ncwtee pf 'enendi: It in @nn  emtial (on W to ake {ood 2o beeawe: 3 . he_Poin of: body ) Photection lenendj 1  dtovt ladairt . dineanea . ) ' healky , nAxt\" otnont bonen , awd l cl the Yeell blood; , F Fcodo Jien w al 1 0 cf ,f 356360 Iutfve JeA-iuezerVe # ot bodj: Foo & fy Dlppa; en enengt_ka Piad-etion pf hest and 'Jwf)k . 3 all 04 ackiv tien iX Ow b6lj' # in (apen enh enkd fa {nonk 6( human 46lj' i4 i @n^ enticy Jon   d:]y wean and /eci in O ve-' 18 alo Phokeetn ot bodj 8hom\n",
      "Iv6 CH 1081 ; : (r\n",
      "{^1ii ;',,1') , ' c{', ~ v; i| Nan iol tjpen '{( ofvdlneaser, exas) pke : K }   :0c wVJ ' ~hicketo , etc Ir deneal Wodj - i{ ia Ixollved ;n Ane {nekon o al #ke bol- Plocenlen. Food i indinedly Reldded t6 #e * meta_bol}nm Ow&I vAj' Food  ha 9' 0 mindtwe 0f abnlancen' . Thej \n"
     ]
    }
   ],
   "source": [
    "file_path = \"Akib Hasan 2011892642.pdf\"  # Your uploaded file\n",
    "extracted_text = extract_text(file_path)\n",
    "\n",
    "print(\"📝 Preview Extracted Text:\\n\")\n",
    "print(extracted_text[:1000])  # Show first 1000 characters\n"
   ]
  },
  {
   "cell_type": "markdown",
   "id": "2de264d6",
   "metadata": {},
   "source": [
    "### Full RAG Flow"
   ]
  },
  {
   "cell_type": "code",
   "execution_count": 34,
   "id": "13453b4e",
   "metadata": {},
   "outputs": [
    {
     "name": "stderr",
     "output_type": "stream",
     "text": [
      "d:\\my files\\vs project\\.venv\\Lib\\site-packages\\torch\\utils\\data\\dataloader.py:665: UserWarning: 'pin_memory' argument is set as true but no accelerator is found, then device pinned memory won't be used.\n",
      "  warnings.warn(warn_msg)\n",
      "d:\\my files\\vs project\\.venv\\Lib\\site-packages\\torch\\nn\\modules\\module.py:1762: FutureWarning: `encoder_attention_mask` is deprecated and will be removed in version 4.55.0 for `BertSdpaSelfAttention.forward`.\n",
      "  return forward_call(*args, **kwargs)\n"
     ]
    },
    {
     "name": "stdout",
     "output_type": "stream",
     "text": [
      "According to the provided context, diabetes is a condition where the body has abnormally high levels of glucose in the blood, making it difficult to metabolize glucose and regulate blood sugar levels.\n"
     ]
    }
   ],
   "source": [
    "file_path = \"Akib Hasan 2011892642.pdf\"  # or \"note.jpg\", etc.\n",
    "text = extract_text(file_path)\n",
    "chunks = chunk_text(text)\n",
    "embeddings, bm25 = build_indexes(chunks)\n",
    "\n",
    "query = \"What is diabetes?\"\n",
    "retrieved = adaptive_retrieve(query, chunks, embeddings, bm25)\n",
    "\n",
    "context = \"\\n\".join(retrieved)\n",
    "final_prompt = f\"Use the context below to answer the question:\\n\\nContext:\\n{context}\\n\\nQuestion: {query}\"\n",
    "\n",
    "response = ask_groq(final_prompt)\n",
    "print(response)\n"
   ]
  },
  {
   "cell_type": "code",
   "execution_count": null,
   "id": "6ca925f8",
   "metadata": {},
   "outputs": [],
   "source": []
  }
 ],
 "metadata": {
  "kernelspec": {
   "display_name": ".venv",
   "language": "python",
   "name": "python3"
  },
  "language_info": {
   "codemirror_mode": {
    "name": "ipython",
    "version": 3
   },
   "file_extension": ".py",
   "mimetype": "text/x-python",
   "name": "python",
   "nbconvert_exporter": "python",
   "pygments_lexer": "ipython3",
   "version": "3.11.9"
  }
 },
 "nbformat": 4,
 "nbformat_minor": 5
}
